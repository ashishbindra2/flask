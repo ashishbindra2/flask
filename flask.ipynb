{
 "cells": [
  {
   "cell_type": "markdown",
   "id": "491014f0",
   "metadata": {},
   "source": [
    "# flask"
   ]
  },
  {
   "cell_type": "markdown",
   "id": "4e90a4b5",
   "metadata": {},
   "source": [
    "\n",
    "### First we need to install \n",
    "-  `pip install python-dotenv`"
   ]
  },
  {
   "cell_type": "markdown",
   "id": "2a11ce95",
   "metadata": {},
   "source": [
    "### enc / secrate\n",
    "- Remember to keep your .env file secure and not share it publicly, as it may contain sensitive information like API keys or database connection strings.\n",
    "- Additionally, do not include your .env file in version control systems. \n",
    "- Add it to your .gitignore file to ensure it is not accidentally committed to your repository.\n"
   ]
  },
  {
   "cell_type": "markdown",
   "id": "f2cdc9c9",
   "metadata": {},
   "source": [
    "\n",
    "Create `.env` in root directory and add enviroment variables\n",
    "\n",
    "* eg `PASSWORD = \"SECRATES\"`\n",
    "* loard envrioment varable using `load_dotenv()\n",
    "` function\n",
    "* And use it like this `Password = os.getenv('SECRET_KEY')`"
   ]
  },
  {
   "cell_type": "markdown",
   "id": "145b0f28",
   "metadata": {},
   "source": [
    "Flask obtain request data from various sources such as query parameter(URL args), formdata or session.\n",
    "1. URL Parameter (Querry Args)\n",
    "2. Form Data (POST Request)\n",
    "3. Session\n",
    "4. Request Headers\n",
    "5. Request Cookies\n",
    "6. JSON Data (POST Request)"
   ]
  },
  {
   "cell_type": "markdown",
   "id": "70c2c620",
   "metadata": {},
   "source": [
    "\n",
    "\n",
    "1. URL Parameters(Query Args)\n",
    "  -------------------------\n",
    "  - Extract data from the URL's query parameters.\n",
    "  `from Flask import request`\n",
    "  `@app.router('/endpoint', methods =['GET])`<br>\n",
    "  `def endpoint():`<br>\n",
    "  `    par_value = request.args.get('paran_have)`\n",
    "  - Light weight, non-senstive data that can be easily passed in URL\n",
    "\n",
    "2. Form Data(POST Request)\n",
    " -------------------------\n",
    " - Access data submitted through a form using a post request use for sensitive or larger amount of data that should not be visible in the URL.\n",
    " `  form_value = request.form.get('form_field_name')`\n",
    "\n",
    "3. Session\n",
    " --------\n",
    " - Store and retrive data associated with a specific client's session\n",
    " - Use for storing user-soecific data that persists across multiple request with a session.\n",
    "\n",
    " `@app.route('/set_session', method = ['GET'])`<br>\n",
    " `  def set_session():`<br>\n",
    " `      session['key'] = 'value'`<br>\n",
    " `      return 'session data'`<br>\n",
    "<br>\n",
    "\n",
    " `@app.route('/get_session', method = ['GET'])`<br>\n",
    " `  def get_session():`<br>\n",
    " `      value = session.get('key')'`<br>\n",
    " `      return f'session value : {value}'`<br>\n",
    "\n",
    " Note: Remeber to setup the flask app and configure the session(if needed) using 'app.config['serct_key'] for session security\n",
    "\n",
    "\n",
    "4. Request Header\n",
    "  ---------------\n",
    "  - you can access various HTTP headers sent by the client using request handeler. Headers can contain important information such as user agent content type, authtivcation token etc\n",
    "   `user_agent = request.headers.get('User_Agent')`\n",
    "   `content_type = request.headers.get(\"Content-Type)`\n",
    "\n",
    "\n",
    "5. Request Cookies\n",
    "  ---------------\n",
    "  Cookies are often used to store small piece of data on the client side, which can be sent with each request. You can access cookies using `request.cookies`\n",
    "  <br>\n",
    "  \n",
    "  ` cookie_value = request.cookies.get(\"cookie_date)`\n",
    "\n",
    "6. Json Data (Post request)\n",
    " -------------------------\n",
    " If the client sending data in JSOn Format (usually in the request body ) you can access it using request.get_JSON()\n",
    " `json_data = request.get_json()`"
   ]
  },
  {
   "cell_type": "markdown",
   "id": "09c7c5dc",
   "metadata": {},
   "source": [
    "-------------------------------------------------------------------------------------------------------------------------\n",
    "\n",
    "* URL PArameter:\n",
    "\n",
    " - Typically consideres less secure for sensitive data is visible in URL.\n",
    " - Always validate and ssatitize the data to prevent any malicious input\n",
    "\n",
    "* Form Data(POST Request)\n",
    " - More secure than URL parameters as the data is sent in the request body and not visible in the URL. However ensure proper validation & sentization of the form data to orevent attack\n",
    " \n",
    "* Session\n",
    " --------\n",
    " - Session can be secure when implemented cautious. Use secure pracrice for handling session data, like encrypting\n",
    " sensitive data setting data strong secrate key &  manage session timeout\n",
    " \n",
    "* Request Header\n",
    " ---------------\n",
    " - Can contain sesitive information.So be cautious about data being set in header. Always validate & ensure the interity of header data\n",
    "\n",
    "* Json Data (Post request)\n",
    " -------------------------\n",
    " json data is secure if handled properly. Ensure that validate & senstive inconing JSON data & use safe & control manner to prevent pa... security vanerabilty.\n",
    "\n",
    "- No method is inheritly more secure than other \n",
    "- Validatiion ensure that the data provide by the user meet specific ceriteria or constraint such as forte, length render"
   ]
  },
  {
   "cell_type": "markdown",
   "id": "7e7a9e00",
   "metadata": {},
   "source": [
    "\n",
    "## Sanitization of data\n",
    "  -------------------\n",
    "  - Santization involves removing or escaping potentially danger charaters or code from the input data to prevent security venarbilty.\n",
    "  - proper :  it helps migrate risk such as SQL Injection & Cross-site scripting attack\n",
    "  - Secial character that contain misinterprent in SQL Query eg single quotes\n",
    "\n",
    "  ##### SQL Injection\n",
    "  * malicious SQL code into an application input field expload vulnerabilty in the database layer\n",
    "  ##### XSS -.=> Cross Site Scripting Attacks\n",
    "  - XSS attacks involus injection malicous scripts (Usally javascript) into web applications that are then exrcuted in the users browsers, protentialy steeling sesntive data or perform malious attacks \n",
    "\n",
    " `@app.route('/validate', method['POST'])`<br>\n",
    "    `def validate_date():`<br>\n",
    "     `  user_input = request.foem.get('')`<br>\n",
    "         # example validation: checking if the input is a None<br>\n",
    "     `   if not user_input.isdigit():`<br>\n",
    "         `   retrun \"Invalid Input\"`<br>\n",
    "        # sanitized use bleah to clean HTML<br>\n",
    "     `sentized_input = bleach.clean(user_input)`<br>"
   ]
  },
  {
   "cell_type": "code",
   "execution_count": null,
   "id": "8c78fb2b",
   "metadata": {},
   "outputs": [],
   "source": []
  },
  {
   "cell_type": "code",
   "execution_count": null,
   "id": "474dce19",
   "metadata": {},
   "outputs": [],
   "source": [
    "\n"
   ]
  }
 ],
 "metadata": {
  "kernelspec": {
   "display_name": "Python 3 (ipykernel)",
   "language": "python",
   "name": "python3"
  },
  "language_info": {
   "codemirror_mode": {
    "name": "ipython",
    "version": 3
   },
   "file_extension": ".py",
   "mimetype": "text/x-python",
   "name": "python",
   "nbconvert_exporter": "python",
   "pygments_lexer": "ipython3",
   "version": "3.11.5"
  }
 },
 "nbformat": 4,
 "nbformat_minor": 5
}
